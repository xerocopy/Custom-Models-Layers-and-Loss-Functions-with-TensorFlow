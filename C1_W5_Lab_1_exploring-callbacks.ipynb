{
 "cells": [
  {
   "cell_type": "markdown",
   "metadata": {
    "colab_type": "text",
    "id": "view-in-github"
   },
   "source": [
    "<a href=\"https://colab.research.google.com/github/https-deeplearning-ai/tensorflow-3-public/blob/main/Course%201%20-%20Custom%20Models%2C%20Layers%20and%20Loss%20Functions/Week%205%20-%20Callbacks/C1_W5_Lab_1_exploring-callbacks.ipynb\" target=\"_parent\"><img src=\"https://colab.research.google.com/assets/colab-badge.svg\" alt=\"Open In Colab\"/></a>"
   ]
  },
  {
   "cell_type": "markdown",
   "metadata": {
    "colab_type": "text",
    "id": "0c_TYhQOUe1j"
   },
   "source": [
    "# Ungraded Lab: Introduction to Keras callbacks\n",
    "\n",
    "In Keras, `Callback` is a Python class meant to be subclassed to provide specific functionality, with a set of methods called at various stages of training (including batch/epoch start and ends), testing, and predicting. Callbacks are useful to get a view on internal states and statistics of the model during training. The methods of the callbacks can  be called at different stages of training/evaluating/inference. Keras has available [callbacks](https://keras.io/api/callbacks/) and we'll show how you can use it in the following sections. Please click the **Open in Colab** badge above to complete this exercise in Colab. This will allow you to take advantage of the free GPU runtime (for faster training) and compatibility with all the packages needed in this notebook."
   ]
  },
  {
   "cell_type": "markdown",
   "metadata": {
    "colab_type": "text",
    "id": "Uyl69EyRQx-f"
   },
   "source": [
    "## Model methods that take callbacks\n",
    "Users can supply a list of callbacks to the following `tf.keras.Model` methods:\n",
    "* [`fit()`](https://www.tensorflow.org/versions/r2.0/api_docs/python/tf/keras/Model#fit), [`fit_generator()`](https://www.tensorflow.org/versions/r2.0/api_docs/python/tf/keras/Model#fit_generator)\n",
    "Trains the model for a fixed number of epochs (iterations over a dataset, or data yielded batch-by-batch by a Python generator).\n",
    "* [`evaluate()`](https://www.tensorflow.org/versions/r2.0/api_docs/python/tf/keras/Model#evaluate), [`evaluate_generator()`](https://www.tensorflow.org/versions/r2.0/api_docs/python/tf/keras/Model#evaluate_generator)\n",
    "Evaluates the model for given data or data generator. Outputs the loss and metric values from the evaluation.\n",
    "* [`predict()`](https://www.tensorflow.org/versions/r2.0/api_docs/python/tf/keras/Model#predict), [`predict_generator()`](https://www.tensorflow.org/versions/r2.0/api_docs/python/tf/keras/Model#predict_generator)\n",
    "Generates output predictions for the input data or data generator."
   ]
  },
  {
   "cell_type": "markdown",
   "metadata": {},
   "source": [
    "## Imports"
   ]
  },
  {
   "cell_type": "code",
   "execution_count": 1,
   "metadata": {
    "colab": {},
    "colab_type": "code",
    "id": "AlT1Kh3uA9lZ"
   },
   "outputs": [
    {
     "name": "stdout",
     "output_type": "stream",
     "text": [
      "Version:  2.1.0\n"
     ]
    }
   ],
   "source": [
    "from __future__ import absolute_import, division, print_function, unicode_literals\n",
    "\n",
    "try:\n",
    "    # %tensorflow_version only exists in Colab.\n",
    "    %tensorflow_version 2.x\n",
    "except Exception:\n",
    "    pass\n",
    "\n",
    "import tensorflow as tf\n",
    "import tensorflow_datasets as tfds\n",
    "import matplotlib.pyplot as plt\n",
    "import io\n",
    "from PIL import Image\n",
    "\n",
    "from tensorflow.keras.callbacks import TensorBoard, EarlyStopping, LearningRateScheduler, ModelCheckpoint, CSVLogger, ReduceLROnPlateau\n",
    "%load_ext tensorboard\n",
    "\n",
    "import os\n",
    "import matplotlib.pylab as plt\n",
    "import numpy as np\n",
    "import math\n",
    "import datetime\n",
    "import pandas as pd\n",
    "\n",
    "print(\"Version: \", tf.__version__)\n",
    "tf.get_logger().setLevel('INFO')"
   ]
  },
  {
   "cell_type": "markdown",
   "metadata": {
    "colab_type": "text",
    "id": "HnSljqtsXKfb"
   },
   "source": [
    "# Examples of Keras callback applications\n",
    "The following section will guide you through creating simple [Callback](https://keras.io/api/callbacks/) applications."
   ]
  },
  {
   "cell_type": "code",
   "execution_count": 2,
   "metadata": {
    "colab": {},
    "colab_type": "code",
    "id": "spskRuxvCYQE"
   },
   "outputs": [],
   "source": [
    "# Download and prepare the horses or humans dataset\n",
    "\n",
    "# horses_or_humans 3.0.0 has already been downloaded for you\n",
    "path = \"./tensorflow_datasets\"\n",
    "splits, info = tfds.load('horses_or_humans', data_dir=path, as_supervised=True, with_info=True, split=['train[:80%]', 'train[80%:]', 'test'])\n",
    "\n",
    "(train_examples, validation_examples, test_examples) = splits\n",
    "\n",
    "num_examples = info.splits['train'].num_examples\n",
    "num_classes = info.features['label'].num_classes"
   ]
  },
  {
   "cell_type": "code",
   "execution_count": 3,
   "metadata": {
    "colab": {},
    "colab_type": "code",
    "id": "veIsubKTCZsN"
   },
   "outputs": [],
   "source": [
    "SIZE = 150 #@param {type:\"slider\", min:64, max:300, step:1}\n",
    "IMAGE_SIZE = (SIZE, SIZE)"
   ]
  },
  {
   "cell_type": "code",
   "execution_count": 4,
   "metadata": {
    "colab": {},
    "colab_type": "code",
    "id": "faajLlErCb1S"
   },
   "outputs": [],
   "source": [
    "def format_image(image, label):\n",
    "  image = tf.image.resize(image, IMAGE_SIZE) / 255.0\n",
    "  return  image, label"
   ]
  },
  {
   "cell_type": "code",
   "execution_count": 5,
   "metadata": {
    "colab": {},
    "colab_type": "code",
    "id": "AVXPuU12Cdka"
   },
   "outputs": [],
   "source": [
    "BATCH_SIZE = 32 #@param {type:\"integer\"}"
   ]
  },
  {
   "cell_type": "code",
   "execution_count": 6,
   "metadata": {
    "colab": {},
    "colab_type": "code",
    "id": "0lHDkFVaCe48"
   },
   "outputs": [],
   "source": [
    "train_batches = train_examples.shuffle(num_examples // 4).map(format_image).batch(BATCH_SIZE).prefetch(1)\n",
    "validation_batches = validation_examples.map(format_image).batch(BATCH_SIZE).prefetch(1)\n",
    "test_batches = test_examples.map(format_image).batch(1)"
   ]
  },
  {
   "cell_type": "code",
   "execution_count": 7,
   "metadata": {
    "colab": {},
    "colab_type": "code",
    "id": "DxsCqEIkCgUt"
   },
   "outputs": [
    {
     "data": {
      "text/plain": [
       "TensorShape([32, 150, 150, 3])"
      ]
     },
     "execution_count": 7,
     "metadata": {},
     "output_type": "execute_result"
    }
   ],
   "source": [
    "for image_batch, label_batch in train_batches.take(1):\n",
    "  pass\n",
    "\n",
    "image_batch.shape"
   ]
  },
  {
   "cell_type": "code",
   "execution_count": 8,
   "metadata": {
    "colab": {},
    "colab_type": "code",
    "id": "iDBpWvHXCh2A"
   },
   "outputs": [],
   "source": [
    "def build_model(dense_units, input_shape=IMAGE_SIZE + (3,)):\n",
    "  model = tf.keras.models.Sequential([\n",
    "      tf.keras.layers.Conv2D(16, (3, 3), activation='relu', input_shape=input_shape),\n",
    "      tf.keras.layers.MaxPooling2D(2, 2),\n",
    "      tf.keras.layers.Conv2D(32, (3, 3), activation='relu'),\n",
    "      tf.keras.layers.MaxPooling2D(2, 2),\n",
    "      tf.keras.layers.Conv2D(64, (3, 3), activation='relu'),\n",
    "      tf.keras.layers.MaxPooling2D(2, 2),\n",
    "      tf.keras.layers.Flatten(),\n",
    "      tf.keras.layers.Dense(dense_units, activation='relu'),\n",
    "      tf.keras.layers.Dense(2, activation='softmax')\n",
    "  ])\n",
    "  return model"
   ]
  },
  {
   "cell_type": "markdown",
   "metadata": {
    "colab_type": "text",
    "id": "0ZKGkjagENSw"
   },
   "source": [
    "## [TensorBoard](https://keras.io/api/callbacks/tensorboard/)\n",
    "\n",
    "Enable visualizations for TensorBoard."
   ]
  },
  {
   "cell_type": "code",
   "execution_count": 9,
   "metadata": {
    "colab": {},
    "colab_type": "code",
    "id": "CeiD2WVEHbex"
   },
   "outputs": [],
   "source": [
    "!rm -rf logs"
   ]
  },
  {
   "cell_type": "code",
   "execution_count": 10,
   "metadata": {
    "colab": {},
    "colab_type": "code",
    "id": "PpLwPLnAEOzv"
   },
   "outputs": [
    {
     "name": "stdout",
     "output_type": "stream",
     "text": [
      "Epoch 1/10\n",
      "26/26 [==============================] - 21s 790ms/step - loss: 0.6615 - accuracy: 0.6180 - val_loss: 0.6262 - val_accuracy: 0.7659\n",
      "Epoch 2/10\n",
      "26/26 [==============================] - 20s 761ms/step - loss: 0.5992 - accuracy: 0.7311 - val_loss: 0.6093 - val_accuracy: 0.6439\n",
      "Epoch 3/10\n",
      "26/26 [==============================] - 20s 762ms/step - loss: 0.5381 - accuracy: 0.7482 - val_loss: 0.6060 - val_accuracy: 0.6195\n",
      "Epoch 4/10\n",
      "26/26 [==============================] - 20s 757ms/step - loss: 0.4754 - accuracy: 0.7932 - val_loss: 0.4713 - val_accuracy: 0.8000\n",
      "Epoch 5/10\n",
      "26/26 [==============================] - 20s 754ms/step - loss: 0.3945 - accuracy: 0.8285 - val_loss: 0.5018 - val_accuracy: 0.7512\n",
      "Epoch 6/10\n",
      "26/26 [==============================] - 20s 758ms/step - loss: 0.3444 - accuracy: 0.8613 - val_loss: 0.2776 - val_accuracy: 0.9024\n",
      "Epoch 7/10\n",
      "26/26 [==============================] - 19s 742ms/step - loss: 0.3266 - accuracy: 0.8674 - val_loss: 0.2282 - val_accuracy: 0.9463\n",
      "Epoch 8/10\n",
      "26/26 [==============================] - 20s 750ms/step - loss: 0.2225 - accuracy: 0.9404 - val_loss: 0.1611 - val_accuracy: 0.9805\n",
      "Epoch 9/10\n",
      "26/26 [==============================] - 19s 750ms/step - loss: 0.2032 - accuracy: 0.9331 - val_loss: 0.1380 - val_accuracy: 0.9854\n",
      "Epoch 10/10\n",
      "26/26 [==============================] - 19s 743ms/step - loss: 0.1412 - accuracy: 0.9696 - val_loss: 0.1455 - val_accuracy: 0.9463\n"
     ]
    },
    {
     "data": {
      "text/plain": [
       "<tensorflow.python.keras.callbacks.History at 0x7f9dc8b98910>"
      ]
     },
     "execution_count": 10,
     "metadata": {},
     "output_type": "execute_result"
    }
   ],
   "source": [
    "model = build_model(dense_units=256)\n",
    "model.compile(\n",
    "    optimizer='sgd',\n",
    "    loss='sparse_categorical_crossentropy', \n",
    "    metrics=['accuracy'])\n",
    "  \n",
    "logdir = os.path.join(\"logs\", datetime.datetime.now().strftime(\"%Y%m%d-%H%M%S\"))\n",
    "tensorboard_callback = tf.keras.callbacks.TensorBoard(logdir)\n",
    "\n",
    "model.fit(train_batches, \n",
    "          epochs=10, \n",
    "          validation_data=validation_batches, \n",
    "          callbacks=[tensorboard_callback])"
   ]
  },
  {
   "cell_type": "code",
   "execution_count": 11,
   "metadata": {
    "colab": {},
    "colab_type": "code",
    "id": "iJunWOjZE0ir"
   },
   "outputs": [
    {
     "data": {
      "text/html": [
       "\n",
       "      <iframe id=\"tensorboard-frame-878bc9b2f69c9ee2\" width=\"100%\" height=\"800\" frameborder=\"0\">\n",
       "      </iframe>\n",
       "      <script>\n",
       "        (function() {\n",
       "          const frame = document.getElementById(\"tensorboard-frame-878bc9b2f69c9ee2\");\n",
       "          const url = new URL(\"/\", window.location);\n",
       "          url.port = 6006;\n",
       "          frame.src = url;\n",
       "        })();\n",
       "      </script>\n",
       "  "
      ],
      "text/plain": [
       "<IPython.core.display.HTML object>"
      ]
     },
     "metadata": {},
     "output_type": "display_data"
    }
   ],
   "source": [
    "%tensorboard --logdir logs"
   ]
  },
  {
   "cell_type": "markdown",
   "metadata": {
    "colab_type": "text",
    "id": "wv9H4Pc2Mfl7"
   },
   "source": [
    "## [Model Checkpoint](https://keras.io/api/callbacks/model_checkpoint/)\n",
    "\n",
    "Callback to save the Keras model or model weights at some frequency."
   ]
  },
  {
   "cell_type": "code",
   "execution_count": 12,
   "metadata": {
    "colab": {},
    "colab_type": "code",
    "id": "PYV4FJ8iMmDq"
   },
   "outputs": [
    {
     "name": "stdout",
     "output_type": "stream",
     "text": [
      "Epoch 1/5\n",
      "\n",
      "Epoch 00001: saving model to weights.01-0.65.h5\n",
      "26/26 - 20s - loss: 0.6713 - accuracy: 0.5852 - val_loss: 0.6516 - val_accuracy: 0.7805\n",
      "Epoch 2/5\n",
      "\n",
      "Epoch 00002: saving model to weights.02-0.63.h5\n",
      "26/26 - 20s - loss: 0.6141 - accuracy: 0.7336 - val_loss: 0.6285 - val_accuracy: 0.6000\n",
      "Epoch 3/5\n",
      "\n",
      "Epoch 00003: saving model to weights.03-0.53.h5\n",
      "26/26 - 20s - loss: 0.5812 - accuracy: 0.7543 - val_loss: 0.5325 - val_accuracy: 0.8195\n",
      "Epoch 4/5\n",
      "\n",
      "Epoch 00004: saving model to weights.04-0.45.h5\n",
      "26/26 - 20s - loss: 0.4994 - accuracy: 0.7725 - val_loss: 0.4529 - val_accuracy: 0.8098\n",
      "Epoch 5/5\n",
      "\n",
      "Epoch 00005: saving model to weights.05-0.40.h5\n",
      "26/26 - 20s - loss: 0.4569 - accuracy: 0.8078 - val_loss: 0.3990 - val_accuracy: 0.8634\n"
     ]
    },
    {
     "data": {
      "text/plain": [
       "<tensorflow.python.keras.callbacks.History at 0x7f9db23cfd10>"
      ]
     },
     "execution_count": 12,
     "metadata": {},
     "output_type": "execute_result"
    }
   ],
   "source": [
    "model = build_model(dense_units=256)\n",
    "model.compile(\n",
    "    optimizer='sgd',\n",
    "    loss='sparse_categorical_crossentropy', \n",
    "    metrics=['accuracy'])\n",
    "  \n",
    "model.fit(train_batches, \n",
    "          epochs=5, \n",
    "          validation_data=validation_batches, \n",
    "          verbose=2,\n",
    "          callbacks=[ModelCheckpoint('weights.{epoch:02d}-{val_loss:.2f}.h5', verbose=1),\n",
    "          ])"
   ]
  },
  {
   "cell_type": "code",
   "execution_count": 13,
   "metadata": {
    "colab": {},
    "colab_type": "code",
    "id": "oGvjQ8IlMmK6"
   },
   "outputs": [
    {
     "name": "stdout",
     "output_type": "stream",
     "text": [
      "\n",
      "Epoch 00001: saving model to saved_model\n",
      "WARNING:tensorflow:From /opt/conda/lib/python3.7/site-packages/tensorflow_core/python/ops/resource_variable_ops.py:1786: calling BaseResourceVariable.__init__ (from tensorflow.python.ops.resource_variable_ops) with constraint is deprecated and will be removed in a future version.\n",
      "Instructions for updating:\n",
      "If using Keras pass *_constraint arguments to layers.\n"
     ]
    },
    {
     "name": "stderr",
     "output_type": "stream",
     "text": [
      "WARNING:tensorflow:From /opt/conda/lib/python3.7/site-packages/tensorflow_core/python/ops/resource_variable_ops.py:1786: calling BaseResourceVariable.__init__ (from tensorflow.python.ops.resource_variable_ops) with constraint is deprecated and will be removed in a future version.\n",
      "Instructions for updating:\n",
      "If using Keras pass *_constraint arguments to layers.\n"
     ]
    },
    {
     "name": "stdout",
     "output_type": "stream",
     "text": [
      "INFO:tensorflow:Assets written to: saved_model/assets\n"
     ]
    },
    {
     "name": "stderr",
     "output_type": "stream",
     "text": [
      "INFO:tensorflow:Assets written to: saved_model/assets\n"
     ]
    },
    {
     "name": "stdout",
     "output_type": "stream",
     "text": [
      "26/26 - 20s - loss: 0.6811 - accuracy: 0.6058 - val_loss: 0.6718 - val_accuracy: 0.5659\n"
     ]
    },
    {
     "data": {
      "text/plain": [
       "<tensorflow.python.keras.callbacks.History at 0x7f9db224ac50>"
      ]
     },
     "execution_count": 13,
     "metadata": {},
     "output_type": "execute_result"
    }
   ],
   "source": [
    "model = build_model(dense_units=256)\n",
    "model.compile(\n",
    "    optimizer='sgd',\n",
    "    loss='sparse_categorical_crossentropy', \n",
    "    metrics=['accuracy'])\n",
    "  \n",
    "model.fit(train_batches, \n",
    "          epochs=1, \n",
    "          validation_data=validation_batches, \n",
    "          verbose=2,\n",
    "          callbacks=[ModelCheckpoint('saved_model', verbose=1)\n",
    "          ])"
   ]
  },
  {
   "cell_type": "code",
   "execution_count": 14,
   "metadata": {
    "colab": {},
    "colab_type": "code",
    "id": "Y1ConwoB0EjD"
   },
   "outputs": [
    {
     "name": "stdout",
     "output_type": "stream",
     "text": [
      "Epoch 1/2\n",
      "\n",
      "Epoch 00001: saving model to model.h5\n",
      "26/26 - 20s - loss: 0.6643 - accuracy: 0.6034 - val_loss: 0.6440 - val_accuracy: 0.7707\n",
      "Epoch 2/2\n",
      "\n",
      "Epoch 00002: saving model to model.h5\n",
      "26/26 - 22s - loss: 0.6109 - accuracy: 0.7664 - val_loss: 0.6852 - val_accuracy: 0.4488\n"
     ]
    },
    {
     "data": {
      "text/plain": [
       "<tensorflow.python.keras.callbacks.History at 0x7f9db2037250>"
      ]
     },
     "execution_count": 14,
     "metadata": {},
     "output_type": "execute_result"
    }
   ],
   "source": [
    "model = build_model(dense_units=256)\n",
    "model.compile(\n",
    "    optimizer='sgd',\n",
    "    loss='sparse_categorical_crossentropy', \n",
    "    metrics=['accuracy'])\n",
    "  \n",
    "model.fit(train_batches, \n",
    "          epochs=2, \n",
    "          validation_data=validation_batches, \n",
    "          verbose=2,\n",
    "          callbacks=[ModelCheckpoint('model.h5', verbose=1)\n",
    "          ])"
   ]
  },
  {
   "cell_type": "markdown",
   "metadata": {
    "colab_type": "text",
    "id": "kptNF0--Lznv"
   },
   "source": [
    "## [Early stopping](https://keras.io/api/callbacks/early_stopping/)\n",
    "\n",
    "Stop training when a monitored metric has stopped improving."
   ]
  },
  {
   "cell_type": "code",
   "execution_count": 15,
   "metadata": {
    "colab": {},
    "colab_type": "code",
    "id": "KJOJTJYdCkdY"
   },
   "outputs": [
    {
     "name": "stdout",
     "output_type": "stream",
     "text": [
      "Epoch 1/50\n",
      "26/26 - 21s - loss: 0.6741 - accuracy: 0.5876 - val_loss: 0.6464 - val_accuracy: 0.7171\n",
      "Epoch 2/50\n",
      "26/26 - 19s - loss: 0.6147 - accuracy: 0.6983 - val_loss: 0.5886 - val_accuracy: 0.6829\n",
      "Epoch 3/50\n",
      "26/26 - 19s - loss: 0.5815 - accuracy: 0.6946 - val_loss: 0.6865 - val_accuracy: 0.5268\n",
      "Epoch 4/50\n",
      "26/26 - 20s - loss: 0.5272 - accuracy: 0.7652 - val_loss: 0.5216 - val_accuracy: 0.7756\n",
      "Epoch 5/50\n",
      "26/26 - 19s - loss: 0.4603 - accuracy: 0.7944 - val_loss: 0.4761 - val_accuracy: 0.8146\n",
      "Epoch 6/50\n",
      "26/26 - 20s - loss: 0.4023 - accuracy: 0.8406 - val_loss: 0.3781 - val_accuracy: 0.8927\n",
      "Epoch 7/50\n",
      "26/26 - 19s - loss: 0.3589 - accuracy: 0.8637 - val_loss: 0.3059 - val_accuracy: 0.8976\n",
      "Epoch 8/50\n",
      "26/26 - 22s - loss: 0.3052 - accuracy: 0.8942 - val_loss: 0.2498 - val_accuracy: 0.9317\n",
      "Epoch 9/50\n",
      "26/26 - 19s - loss: 0.2775 - accuracy: 0.9075 - val_loss: 0.2111 - val_accuracy: 0.9317\n",
      "Epoch 10/50\n",
      "26/26 - 19s - loss: 0.2016 - accuracy: 0.9404 - val_loss: 0.2144 - val_accuracy: 0.9220\n",
      "Epoch 11/50\n",
      "26/26 - 21s - loss: 0.1711 - accuracy: 0.9465 - val_loss: 0.1886 - val_accuracy: 0.9415\n",
      "Epoch 12/50\n",
      "26/26 - 20s - loss: 0.1471 - accuracy: 0.9635 - val_loss: 0.1203 - val_accuracy: 0.9659\n",
      "Epoch 13/50\n",
      "26/26 - 20s - loss: 0.1202 - accuracy: 0.9708 - val_loss: 0.1059 - val_accuracy: 0.9707\n",
      "Epoch 14/50\n",
      "26/26 - 19s - loss: 0.1149 - accuracy: 0.9672 - val_loss: 0.1048 - val_accuracy: 0.9854\n",
      "Epoch 15/50\n",
      "Restoring model weights from the end of the best epoch.\n",
      "26/26 - 20s - loss: 0.0876 - accuracy: 0.9818 - val_loss: 0.0870 - val_accuracy: 0.9659\n",
      "Epoch 00015: early stopping\n"
     ]
    },
    {
     "data": {
      "text/plain": [
       "<tensorflow.python.keras.callbacks.History at 0x7f9db1fbf390>"
      ]
     },
     "execution_count": 15,
     "metadata": {},
     "output_type": "execute_result"
    }
   ],
   "source": [
    "model = build_model(dense_units=256)\n",
    "model.compile(\n",
    "    optimizer='sgd',\n",
    "    loss='sparse_categorical_crossentropy', \n",
    "    metrics=['accuracy'])\n",
    "  \n",
    "model.fit(train_batches, \n",
    "          epochs=50, \n",
    "          validation_data=validation_batches, \n",
    "          verbose=2,\n",
    "          callbacks=[EarlyStopping(\n",
    "              patience=3,\n",
    "              min_delta=0.05,\n",
    "              baseline=0.8,\n",
    "              mode='min',\n",
    "              monitor='val_loss',\n",
    "              restore_best_weights=True,\n",
    "              verbose=1)\n",
    "          ])"
   ]
  },
  {
   "cell_type": "markdown",
   "metadata": {
    "colab_type": "text",
    "id": "8mDzWUD4Pqq5"
   },
   "source": [
    "## [CSV Logger](https://keras.io/api/callbacks/csv_logger/)\n",
    "\n",
    "Callback that streams epoch results to a CSV file."
   ]
  },
  {
   "cell_type": "code",
   "execution_count": 16,
   "metadata": {
    "colab": {},
    "colab_type": "code",
    "id": "cffnMpmGPtMh"
   },
   "outputs": [
    {
     "name": "stdout",
     "output_type": "stream",
     "text": [
      "Epoch 1/5\n",
      "26/26 [==============================] - 20s 772ms/step - loss: 0.6596 - accuracy: 0.5998 - val_loss: 0.7534 - val_accuracy: 0.4341\n",
      "Epoch 2/5\n",
      "26/26 [==============================] - 19s 743ms/step - loss: 0.6117 - accuracy: 0.7007 - val_loss: 0.5662 - val_accuracy: 0.7512\n",
      "Epoch 3/5\n",
      "26/26 [==============================] - 19s 750ms/step - loss: 0.5613 - accuracy: 0.7275 - val_loss: 0.5505 - val_accuracy: 0.7512\n",
      "Epoch 4/5\n",
      "26/26 [==============================] - 19s 750ms/step - loss: 0.4967 - accuracy: 0.7822 - val_loss: 0.4820 - val_accuracy: 0.8146\n",
      "Epoch 5/5\n",
      "26/26 [==============================] - 20s 750ms/step - loss: 0.4372 - accuracy: 0.8090 - val_loss: 0.3773 - val_accuracy: 0.8293\n"
     ]
    },
    {
     "data": {
      "text/plain": [
       "<tensorflow.python.keras.callbacks.History at 0x7f9db1dfdf10>"
      ]
     },
     "execution_count": 16,
     "metadata": {},
     "output_type": "execute_result"
    }
   ],
   "source": [
    "model = build_model(dense_units=256)\n",
    "model.compile(\n",
    "    optimizer='sgd',\n",
    "    loss='sparse_categorical_crossentropy', \n",
    "    metrics=['accuracy'])\n",
    "  \n",
    "csv_file = 'training.csv'\n",
    "\n",
    "model.fit(train_batches, \n",
    "          epochs=5, \n",
    "          validation_data=validation_batches, \n",
    "          callbacks=[CSVLogger(csv_file)\n",
    "          ])"
   ]
  },
  {
   "cell_type": "code",
   "execution_count": 17,
   "metadata": {
    "colab": {},
    "colab_type": "code",
    "id": "B9tkYi03QV7R"
   },
   "outputs": [
    {
     "data": {
      "text/html": [
       "<div>\n",
       "<style scoped>\n",
       "    .dataframe tbody tr th:only-of-type {\n",
       "        vertical-align: middle;\n",
       "    }\n",
       "\n",
       "    .dataframe tbody tr th {\n",
       "        vertical-align: top;\n",
       "    }\n",
       "\n",
       "    .dataframe thead th {\n",
       "        text-align: right;\n",
       "    }\n",
       "</style>\n",
       "<table border=\"1\" class=\"dataframe\">\n",
       "  <thead>\n",
       "    <tr style=\"text-align: right;\">\n",
       "      <th></th>\n",
       "      <th>epoch</th>\n",
       "      <th>accuracy</th>\n",
       "      <th>loss</th>\n",
       "      <th>val_accuracy</th>\n",
       "      <th>val_loss</th>\n",
       "    </tr>\n",
       "  </thead>\n",
       "  <tbody>\n",
       "    <tr>\n",
       "      <th>0</th>\n",
       "      <td>0</td>\n",
       "      <td>0.599757</td>\n",
       "      <td>0.661113</td>\n",
       "      <td>0.434146</td>\n",
       "      <td>0.753373</td>\n",
       "    </tr>\n",
       "    <tr>\n",
       "      <th>1</th>\n",
       "      <td>1</td>\n",
       "      <td>0.700730</td>\n",
       "      <td>0.612141</td>\n",
       "      <td>0.751219</td>\n",
       "      <td>0.566210</td>\n",
       "    </tr>\n",
       "    <tr>\n",
       "      <th>2</th>\n",
       "      <td>2</td>\n",
       "      <td>0.727494</td>\n",
       "      <td>0.562303</td>\n",
       "      <td>0.751219</td>\n",
       "      <td>0.550518</td>\n",
       "    </tr>\n",
       "    <tr>\n",
       "      <th>3</th>\n",
       "      <td>3</td>\n",
       "      <td>0.782238</td>\n",
       "      <td>0.496309</td>\n",
       "      <td>0.814634</td>\n",
       "      <td>0.481989</td>\n",
       "    </tr>\n",
       "    <tr>\n",
       "      <th>4</th>\n",
       "      <td>4</td>\n",
       "      <td>0.809002</td>\n",
       "      <td>0.437352</td>\n",
       "      <td>0.829268</td>\n",
       "      <td>0.377332</td>\n",
       "    </tr>\n",
       "  </tbody>\n",
       "</table>\n",
       "</div>"
      ],
      "text/plain": [
       "   epoch  accuracy      loss  val_accuracy  val_loss\n",
       "0      0  0.599757  0.661113      0.434146  0.753373\n",
       "1      1  0.700730  0.612141      0.751219  0.566210\n",
       "2      2  0.727494  0.562303      0.751219  0.550518\n",
       "3      3  0.782238  0.496309      0.814634  0.481989\n",
       "4      4  0.809002  0.437352      0.829268  0.377332"
      ]
     },
     "execution_count": 17,
     "metadata": {},
     "output_type": "execute_result"
    }
   ],
   "source": [
    "pd.read_csv(csv_file).head()"
   ]
  },
  {
   "cell_type": "markdown",
   "metadata": {
    "colab_type": "text",
    "id": "Dt9C2Y9fRBKN"
   },
   "source": [
    "## [Learning Rate Scheduler](https://keras.io/api/callbacks/learning_rate_scheduler/)\n",
    "\n",
    "Updates the learning rate during training."
   ]
  },
  {
   "cell_type": "code",
   "execution_count": 18,
   "metadata": {
    "colab": {},
    "colab_type": "code",
    "id": "aJi-xY2VRC03"
   },
   "outputs": [
    {
     "name": "stdout",
     "output_type": "stream",
     "text": [
      "\n",
      "Epoch 00001: LearningRateScheduler reducing learning rate to 0.005.\n",
      "Epoch 1/5\n",
      "26/26 [==============================] - 32s 1s/step - loss: 0.6811 - accuracy: 0.5401 - val_loss: 0.6742 - val_accuracy: 0.6293\n",
      "\n",
      "Epoch 00002: LearningRateScheduler reducing learning rate to 0.0025.\n",
      "Epoch 2/5\n",
      "26/26 [==============================] - 19s 742ms/step - loss: 0.6635 - accuracy: 0.5973 - val_loss: 0.6680 - val_accuracy: 0.5951\n",
      "\n",
      "Epoch 00003: LearningRateScheduler reducing learning rate to 0.00125.\n",
      "Epoch 3/5\n",
      "26/26 [==============================] - 22s 830ms/step - loss: 0.6539 - accuracy: 0.6229 - val_loss: 0.6659 - val_accuracy: 0.5610\n",
      "\n",
      "Epoch 00004: LearningRateScheduler reducing learning rate to 0.000625.\n",
      "Epoch 4/5\n",
      "26/26 [==============================] - 20s 751ms/step - loss: 0.6494 - accuracy: 0.6618 - val_loss: 0.6659 - val_accuracy: 0.5366\n",
      "\n",
      "Epoch 00005: LearningRateScheduler reducing learning rate to 0.0003125.\n",
      "Epoch 5/5\n",
      "26/26 [==============================] - 19s 746ms/step - loss: 0.6468 - accuracy: 0.6229 - val_loss: 0.6645 - val_accuracy: 0.5415\n"
     ]
    },
    {
     "data": {
      "text/plain": [
       "<tensorflow.python.keras.callbacks.History at 0x7f9dafc2d450>"
      ]
     },
     "execution_count": 18,
     "metadata": {},
     "output_type": "execute_result"
    }
   ],
   "source": [
    "model = build_model(dense_units=256)\n",
    "model.compile(\n",
    "    optimizer='sgd',\n",
    "    loss='sparse_categorical_crossentropy', \n",
    "    metrics=['accuracy'])\n",
    "  \n",
    "def step_decay(epoch):\n",
    "\tinitial_lr = 0.01\n",
    "\tdrop = 0.5\n",
    "\tepochs_drop = 1\n",
    "\tlr = initial_lr * math.pow(drop, math.floor((1+epoch)/epochs_drop))\n",
    "\treturn lr\n",
    "\n",
    "model.fit(train_batches, \n",
    "          epochs=5, \n",
    "          validation_data=validation_batches, \n",
    "          callbacks=[LearningRateScheduler(step_decay, verbose=1),\n",
    "                    TensorBoard(log_dir='./log_dir')])"
   ]
  },
  {
   "cell_type": "code",
   "execution_count": 19,
   "metadata": {
    "colab": {},
    "colab_type": "code",
    "id": "M2S4n8nrbV91"
   },
   "outputs": [
    {
     "data": {
      "text/html": [
       "\n",
       "      <iframe id=\"tensorboard-frame-4365a45be0870cdb\" width=\"100%\" height=\"800\" frameborder=\"0\">\n",
       "      </iframe>\n",
       "      <script>\n",
       "        (function() {\n",
       "          const frame = document.getElementById(\"tensorboard-frame-4365a45be0870cdb\");\n",
       "          const url = new URL(\"/\", window.location);\n",
       "          url.port = 6007;\n",
       "          frame.src = url;\n",
       "        })();\n",
       "      </script>\n",
       "  "
      ],
      "text/plain": [
       "<IPython.core.display.HTML object>"
      ]
     },
     "metadata": {},
     "output_type": "display_data"
    }
   ],
   "source": [
    "%tensorboard --logdir log_dir"
   ]
  },
  {
   "cell_type": "markdown",
   "metadata": {
    "colab_type": "text",
    "id": "y0wcuQyJE_UK"
   },
   "source": [
    "## [ReduceLROnPlateau](https://keras.io/api/callbacks/reduce_lr_on_plateau/)\n",
    "\n",
    "Reduce learning rate when a metric has stopped improving."
   ]
  },
  {
   "cell_type": "code",
   "execution_count": 20,
   "metadata": {
    "colab": {},
    "colab_type": "code",
    "id": "4naxZ-eCFB27"
   },
   "outputs": [
    {
     "name": "stdout",
     "output_type": "stream",
     "text": [
      "Epoch 1/50\n",
      "26/26 [==============================] - 23s 901ms/step - loss: 0.6737 - accuracy: 0.5584 - val_loss: 0.6542 - val_accuracy: 0.5805\n",
      "Epoch 2/50\n",
      "26/26 [==============================] - 20s 761ms/step - loss: 0.6331 - accuracy: 0.6837 - val_loss: 0.6087 - val_accuracy: 0.7951\n",
      "Epoch 3/50\n",
      "26/26 [==============================] - 20s 754ms/step - loss: 0.5856 - accuracy: 0.7518 - val_loss: 0.5534 - val_accuracy: 0.7366\n",
      "Epoch 4/50\n",
      "26/26 [==============================] - 19s 750ms/step - loss: 0.5067 - accuracy: 0.8017 - val_loss: 0.4653 - val_accuracy: 0.8244\n",
      "Epoch 5/50\n",
      "25/26 [===========================>..] - ETA: 0s - loss: 0.4567 - accuracy: 0.7987\n",
      "Epoch 00005: ReduceLROnPlateau reducing learning rate to 0.0019999999552965165.\n",
      "26/26 [==============================] - 20s 774ms/step - loss: 0.4540 - accuracy: 0.8005 - val_loss: 0.4918 - val_accuracy: 0.7561\n",
      "Epoch 6/50\n",
      "26/26 [==============================] - 20s 753ms/step - loss: 0.3808 - accuracy: 0.8601 - val_loss: 0.3724 - val_accuracy: 0.8732\n",
      "Epoch 7/50\n",
      "26/26 [==============================] - 20s 773ms/step - loss: 0.3622 - accuracy: 0.8723 - val_loss: 0.3514 - val_accuracy: 0.8732\n",
      "Epoch 8/50\n",
      "26/26 [==============================] - 20s 769ms/step - loss: 0.3457 - accuracy: 0.8820 - val_loss: 0.3342 - val_accuracy: 0.8780\n",
      "Epoch 9/50\n",
      "26/26 [==============================] - 20s 788ms/step - loss: 0.3260 - accuracy: 0.8978 - val_loss: 0.3266 - val_accuracy: 0.9024\n",
      "Epoch 10/50\n",
      "26/26 [==============================] - 21s 820ms/step - loss: 0.3149 - accuracy: 0.9063 - val_loss: 0.3191 - val_accuracy: 0.8976\n",
      "Epoch 11/50\n",
      "26/26 [==============================] - 20s 773ms/step - loss: 0.2963 - accuracy: 0.9075 - val_loss: 0.2954 - val_accuracy: 0.9073\n",
      "Epoch 12/50\n",
      "26/26 [==============================] - 20s 785ms/step - loss: 0.2841 - accuracy: 0.9173 - val_loss: 0.2687 - val_accuracy: 0.9317\n",
      "Epoch 13/50\n",
      "25/26 [===========================>..] - ETA: 0s - loss: 0.2699 - accuracy: 0.9212\n",
      "Epoch 00013: ReduceLROnPlateau reducing learning rate to 0.001.\n",
      "26/26 [==============================] - 20s 769ms/step - loss: 0.2711 - accuracy: 0.9209 - val_loss: 0.2828 - val_accuracy: 0.8976\n",
      "Epoch 14/50\n",
      "26/26 [==============================] - 20s 770ms/step - loss: 0.2576 - accuracy: 0.9355 - val_loss: 0.2536 - val_accuracy: 0.9317\n",
      "Epoch 15/50\n",
      "26/26 [==============================] - 21s 792ms/step - loss: 0.2525 - accuracy: 0.9307 - val_loss: 0.2440 - val_accuracy: 0.9415\n",
      "Epoch 16/50\n",
      "26/26 [==============================] - 20s 757ms/step - loss: 0.2430 - accuracy: 0.9380 - val_loss: 0.2427 - val_accuracy: 0.9366\n",
      "Epoch 17/50\n",
      "25/26 [===========================>..] - ETA: 0s - loss: 0.2399 - accuracy: 0.9400\n",
      "Epoch 00017: ReduceLROnPlateau reducing learning rate to 0.001.\n",
      "26/26 [==============================] - 21s 812ms/step - loss: 0.2382 - accuracy: 0.9416 - val_loss: 0.2461 - val_accuracy: 0.9317\n",
      "Epoch 18/50\n",
      "26/26 [==============================] - 20s 758ms/step - loss: 0.2323 - accuracy: 0.9416 - val_loss: 0.2318 - val_accuracy: 0.9366\n",
      "Epoch 19/50\n",
      "26/26 [==============================] - 20s 776ms/step - loss: 0.2276 - accuracy: 0.9465 - val_loss: 0.2171 - val_accuracy: 0.9415\n",
      "Epoch 20/50\n",
      "26/26 [==============================] - 20s 754ms/step - loss: 0.2217 - accuracy: 0.9465 - val_loss: 0.2128 - val_accuracy: 0.9415\n",
      "Epoch 21/50\n",
      "25/26 [===========================>..] - ETA: 0s - loss: 0.2161 - accuracy: 0.9500\n",
      "Epoch 00021: ReduceLROnPlateau reducing learning rate to 0.001.\n",
      "26/26 [==============================] - 20s 758ms/step - loss: 0.2166 - accuracy: 0.9489 - val_loss: 0.2238 - val_accuracy: 0.9366\n",
      "Epoch 22/50\n",
      "26/26 [==============================] - 19s 742ms/step - loss: 0.2104 - accuracy: 0.9477 - val_loss: 0.2102 - val_accuracy: 0.9415\n",
      "Epoch 23/50\n",
      "25/26 [===========================>..] - ETA: 0s - loss: 0.2033 - accuracy: 0.9575\n",
      "Epoch 00023: ReduceLROnPlateau reducing learning rate to 0.001.\n",
      "26/26 [==============================] - 19s 746ms/step - loss: 0.2050 - accuracy: 0.9550 - val_loss: 0.2129 - val_accuracy: 0.9366\n",
      "Epoch 24/50\n",
      "25/26 [===========================>..] - ETA: 0s - loss: 0.1987 - accuracy: 0.9563\n",
      "Epoch 00024: ReduceLROnPlateau reducing learning rate to 0.001.\n",
      "26/26 [==============================] - 20s 758ms/step - loss: 0.1966 - accuracy: 0.9574 - val_loss: 0.2194 - val_accuracy: 0.9317\n",
      "Epoch 25/50\n",
      "26/26 [==============================] - 20s 753ms/step - loss: 0.1951 - accuracy: 0.9562 - val_loss: 0.1912 - val_accuracy: 0.9463\n",
      "Epoch 26/50\n",
      "26/26 [==============================] - 20s 754ms/step - loss: 0.1884 - accuracy: 0.9599 - val_loss: 0.1910 - val_accuracy: 0.9463\n",
      "Epoch 27/50\n",
      "26/26 [==============================] - 20s 777ms/step - loss: 0.1827 - accuracy: 0.9611 - val_loss: 0.1863 - val_accuracy: 0.9463\n",
      "Epoch 28/50\n",
      "26/26 [==============================] - 20s 777ms/step - loss: 0.1795 - accuracy: 0.9672 - val_loss: 0.1750 - val_accuracy: 0.9415\n",
      "Epoch 29/50\n",
      "26/26 [==============================] - 20s 758ms/step - loss: 0.1745 - accuracy: 0.9659 - val_loss: 0.1677 - val_accuracy: 0.9512\n",
      "Epoch 30/50\n",
      "26/26 [==============================] - 20s 754ms/step - loss: 0.1691 - accuracy: 0.9659 - val_loss: 0.1626 - val_accuracy: 0.9561\n",
      "Epoch 31/50\n",
      "25/26 [===========================>..] - ETA: 0s - loss: 0.1631 - accuracy: 0.9712\n",
      "Epoch 00031: ReduceLROnPlateau reducing learning rate to 0.001.\n",
      "26/26 [==============================] - 20s 775ms/step - loss: 0.1658 - accuracy: 0.9696 - val_loss: 0.1637 - val_accuracy: 0.9512\n",
      "Epoch 32/50\n",
      "25/26 [===========================>..] - ETA: 0s - loss: 0.1634 - accuracy: 0.9700\n",
      "Epoch 00032: ReduceLROnPlateau reducing learning rate to 0.001.\n",
      "26/26 [==============================] - 20s 763ms/step - loss: 0.1628 - accuracy: 0.9708 - val_loss: 0.1660 - val_accuracy: 0.9463\n",
      "Epoch 33/50\n",
      "26/26 [==============================] - 20s 751ms/step - loss: 0.1571 - accuracy: 0.9720 - val_loss: 0.1607 - val_accuracy: 0.9463\n",
      "Epoch 34/50\n",
      "26/26 [==============================] - 20s 758ms/step - loss: 0.1511 - accuracy: 0.9745 - val_loss: 0.1533 - val_accuracy: 0.9561\n",
      "Epoch 35/50\n",
      "26/26 [==============================] - 23s 897ms/step - loss: 0.1473 - accuracy: 0.9757 - val_loss: 0.1438 - val_accuracy: 0.9659\n",
      "Epoch 36/50\n",
      "26/26 [==============================] - 19s 745ms/step - loss: 0.1442 - accuracy: 0.9781 - val_loss: 0.1433 - val_accuracy: 0.9659\n",
      "Epoch 37/50\n",
      "25/26 [===========================>..] - ETA: 0s - loss: 0.1392 - accuracy: 0.9750\n",
      "Epoch 00037: ReduceLROnPlateau reducing learning rate to 0.001.\n",
      "26/26 [==============================] - 20s 754ms/step - loss: 0.1397 - accuracy: 0.9757 - val_loss: 0.1510 - val_accuracy: 0.9561\n",
      "Epoch 38/50\n",
      "26/26 [==============================] - 21s 819ms/step - loss: 0.1372 - accuracy: 0.9745 - val_loss: 0.1395 - val_accuracy: 0.9610\n",
      "Epoch 39/50\n",
      "26/26 [==============================] - 21s 792ms/step - loss: 0.1343 - accuracy: 0.9781 - val_loss: 0.1312 - val_accuracy: 0.9756\n",
      "Epoch 40/50\n",
      "26/26 [==============================] - 20s 765ms/step - loss: 0.1303 - accuracy: 0.9781 - val_loss: 0.1265 - val_accuracy: 0.9805\n",
      "Epoch 41/50\n",
      "25/26 [===========================>..] - ETA: 0s - loss: 0.1265 - accuracy: 0.9775\n",
      "Epoch 00041: ReduceLROnPlateau reducing learning rate to 0.001.\n",
      "26/26 [==============================] - 20s 754ms/step - loss: 0.1266 - accuracy: 0.9769 - val_loss: 0.1409 - val_accuracy: 0.9561\n",
      "Epoch 42/50\n",
      "25/26 [===========================>..] - ETA: 0s - loss: 0.1275 - accuracy: 0.9762\n",
      "Epoch 00042: ReduceLROnPlateau reducing learning rate to 0.001.\n",
      "26/26 [==============================] - 20s 755ms/step - loss: 0.1256 - accuracy: 0.9769 - val_loss: 0.1338 - val_accuracy: 0.9610\n",
      "Epoch 43/50\n",
      "26/26 [==============================] - 21s 797ms/step - loss: 0.1230 - accuracy: 0.9769 - val_loss: 0.1235 - val_accuracy: 0.9805\n",
      "Epoch 44/50\n",
      "26/26 [==============================] - 20s 767ms/step - loss: 0.1205 - accuracy: 0.9769 - val_loss: 0.1206 - val_accuracy: 0.9805\n",
      "Epoch 45/50\n",
      "26/26 [==============================] - 20s 754ms/step - loss: 0.1177 - accuracy: 0.9793 - val_loss: 0.1200 - val_accuracy: 0.9805\n",
      "Epoch 46/50\n",
      "26/26 [==============================] - 20s 761ms/step - loss: 0.1139 - accuracy: 0.9793 - val_loss: 0.1141 - val_accuracy: 0.9805\n",
      "Epoch 47/50\n",
      "25/26 [===========================>..] - ETA: 0s - loss: 0.1121 - accuracy: 0.9787\n",
      "Epoch 00047: ReduceLROnPlateau reducing learning rate to 0.001.\n",
      "26/26 [==============================] - 20s 754ms/step - loss: 0.1117 - accuracy: 0.9793 - val_loss: 0.1164 - val_accuracy: 0.9756\n",
      "Epoch 48/50\n",
      "26/26 [==============================] - 19s 746ms/step - loss: 0.1088 - accuracy: 0.9805 - val_loss: 0.1079 - val_accuracy: 0.9805\n",
      "Epoch 49/50\n",
      "26/26 [==============================] - 20s 750ms/step - loss: 0.1066 - accuracy: 0.9805 - val_loss: 0.1070 - val_accuracy: 0.9805\n",
      "Epoch 50/50\n",
      "26/26 [==============================] - 19s 746ms/step - loss: 0.1059 - accuracy: 0.9793 - val_loss: 0.1038 - val_accuracy: 0.9854\n"
     ]
    },
    {
     "data": {
      "text/plain": [
       "<tensorflow.python.keras.callbacks.History at 0x7f9db231fd50>"
      ]
     },
     "execution_count": 20,
     "metadata": {},
     "output_type": "execute_result"
    }
   ],
   "source": [
    "model = build_model(dense_units=256)\n",
    "model.compile(\n",
    "    optimizer='sgd',\n",
    "    loss='sparse_categorical_crossentropy', \n",
    "    metrics=['accuracy'])\n",
    "  \n",
    "model.fit(train_batches, \n",
    "          epochs=50, \n",
    "          validation_data=validation_batches, \n",
    "          callbacks=[ReduceLROnPlateau(monitor='val_loss', \n",
    "                                       factor=0.2, verbose=1,\n",
    "                                       patience=1, min_lr=0.001),\n",
    "                     TensorBoard(log_dir='./log_dir')])"
   ]
  },
  {
   "cell_type": "code",
   "execution_count": 21,
   "metadata": {
    "colab": {},
    "colab_type": "code",
    "id": "isfTWP4NYudk"
   },
   "outputs": [
    {
     "data": {
      "text/plain": [
       "Reusing TensorBoard on port 6007 (pid 4444), started 0:16:44 ago. (Use '!kill 4444' to kill it.)"
      ]
     },
     "metadata": {},
     "output_type": "display_data"
    },
    {
     "data": {
      "text/html": [
       "\n",
       "      <iframe id=\"tensorboard-frame-7bff5fa71426ed91\" width=\"100%\" height=\"800\" frameborder=\"0\">\n",
       "      </iframe>\n",
       "      <script>\n",
       "        (function() {\n",
       "          const frame = document.getElementById(\"tensorboard-frame-7bff5fa71426ed91\");\n",
       "          const url = new URL(\"/\", window.location);\n",
       "          url.port = 6007;\n",
       "          frame.src = url;\n",
       "        })();\n",
       "      </script>\n",
       "  "
      ],
      "text/plain": [
       "<IPython.core.display.HTML object>"
      ]
     },
     "metadata": {},
     "output_type": "display_data"
    }
   ],
   "source": [
    "%tensorboard --logdir log_dir"
   ]
  },
  {
   "cell_type": "code",
   "execution_count": null,
   "metadata": {},
   "outputs": [],
   "source": []
  }
 ],
 "metadata": {
  "colab": {
   "collapsed_sections": [],
   "include_colab_link": true,
   "name": "ExploringCallbacks.ipynb",
   "provenance": []
  },
  "kernelspec": {
   "display_name": "Python 3",
   "language": "python",
   "name": "python3"
  },
  "language_info": {
   "codemirror_mode": {
    "name": "ipython",
    "version": 3
   },
   "file_extension": ".py",
   "mimetype": "text/x-python",
   "name": "python",
   "nbconvert_exporter": "python",
   "pygments_lexer": "ipython3",
   "version": "3.7.6"
  }
 },
 "nbformat": 4,
 "nbformat_minor": 4
}
